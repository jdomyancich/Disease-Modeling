{
 "cells": [
  {
   "cell_type": "markdown",
   "metadata": {},
   "source": [
    "# Variables and Arithmetic Operators\n",
    "\n",
    "## Outbreak!\n",
    "\n",
    "One of the useful things about variables in coding is that their value can be changed. Here you will explore this using epidemic models.\n",
    "\n",
    "Think of a disease where, once you get it, you have it for life, like HIV. Imagine a place where 1,000 people live, and where 25% of healthy people are getting infected each day (yikes!).\n",
    "\n",
    "Let's model the spread over time.\n",
    "\n",
    "<IMG SRC = \"SI_Model.jpg\" height = 400 width = 600 align=center>\n",
    "\n",
    "In disease models, the variables that contain individuals are called \"class variables\". Here we have two: the <b>Suceptible</b> class and the <b>Infected</b> class. The variables that govern the movement between classes are \"transmission variables.\" Here we have one: <b>infection rate</b>.\n",
    "\n",
    "The model will run over a period of time. In this model we'll use days as the increment for when the class variables are updated."
   ]
  },
  {
   "cell_type": "code",
   "execution_count": null,
   "metadata": {},
   "outputs": [],
   "source": [
    "# Set up initial class and rate variables\n",
    "\n",
    "Susceptible = 1000  # number of susceptibles, individuals that can get sick\n",
    "Infected = 1  # seed the outbreak with one infectious individual\n",
    "time = 0  # set the simulation clock to zero (ie Day 0)\n",
    "infection_rate = .25  # each day, 25% of susceptible individuals get sick\n",
    "\n",
    "# Set up list variables for storing data\n",
    "\n",
    "tList = [time]  # we'll keep track of the day in this list\n",
    "sList = [Susceptible]  # record susceptible individuals each day\n",
    "iList = [Infected]  # record infected individuals each day\n",
    "\n",
    "# The operations below simulate the spread of infection for 20 days\n",
    "\n",
    "for time in range(1, 20):  # Begin loop. Repeats 20 times.\n",
    "\n",
    "    Newinfected = infection_rate * Susceptible  # Calculate newly infected\n",
    "    Newinfected = int(Newinfected)  # Round to whole people\n",
    "\n",
    "    Susceptible = Susceptible - Newinfected  # Calculate change to susceptibles\n",
    "    Infected = Infected + Newinfected  # Calculate change to infected class\n",
    "\n",
    "    tList.append(time)  # Updates time list\n",
    "    sList.append(Susceptible)  # Updates susceptible list\n",
    "    iList.append(Infected)  # Updates infected list\n",
    "\n",
    "# End of infection spread loop\n",
    "\n",
    "# Begin code for graphing data.\n",
    "# Import a graphing module called 'matplotlib' for this\n",
    "\n",
    "import matplotlib.pyplot as plt\n",
    "\n",
    "plt.plot(tList, sList)\n",
    "plt.xlabel('Days')\n",
    "plt.ylabel('Susceptible Individuals')\n",
    "plt.xlim(0, 20)\n",
    "plt.ylim(0, 1000)\n",
    "plt.show()\n",
    "\n",
    "plt.plot(tList, iList)\n",
    "plt.xlabel('Days')\n",
    "plt.ylabel('Infected Individuals')\n",
    "plt.xlim(0, 20)\n",
    "plt.ylim(0, 1000)\n",
    "plt.show()"
   ]
  },
  {
   "cell_type": "markdown",
   "metadata": {},
   "source": [
    "## Modify the Outbreak\n",
    "\n",
    "Let's modify the HIV outbreak model for a new situation. Imagine you start out with a population of 800 and at day 10 half of the population is infected. Can you use the model to figure out what the infection rate is?\n",
    "\n",
    "Below is the same model as above. Try modifying the variables’ values to answer the question. You may have to modify variables and run the model multiple times to find a solution. Use a \"guess and check\" method.\n"
   ]
  },
  {
   "cell_type": "code",
   "execution_count": null,
   "metadata": {},
   "outputs": [],
   "source": [
    "# MODIFY: HIV Outbreak Model\n",
    "\n",
    "# Set up initial class and rate variables\n",
    "# SOLUTION: See changes in lines 6 and 9. 7% was our best guess.\n",
    "\n",
    "Susceptible = 800  # number of susceptibles, individuals that can get sick\n",
    "Infected = 1  # seed the outbreak with one infectious individual\n",
    "time = 0  # set the simulation clock to zero (ie Day 0)\n",
    "infection_rate = .07  # each day, 7% of susceptible individuals get sick\n",
    "\n",
    "# Set up list variables for storing data\n",
    "\n",
    "tList = [time]  # we'll keep track of the day in this list\n",
    "sList = [Susceptible]  # record susceptible individuals each day\n",
    "iList = [Infected]  # record infected individuals each day\n",
    "\n",
    "# The operations below simulate the spread of infection for 20 days\n",
    "\n",
    "for time in range(1, 20):  # Begin loop. Repeats 20 times.\n",
    "\n",
    "    Newinfected = infection_rate * Susceptible  # Calculate new suceptibles\n",
    "    Newinfected = int(Newinfected)  # Round to whole people\n",
    "\n",
    "    Susceptible = Susceptible - Newinfected  # Calculate change to susceptibles\n",
    "    Infected = Infected + Newinfected  # Calculate change to infected\n",
    "\n",
    "    tList.append(time)  # Updates time list\n",
    "    sList.append(Susceptible)  # Updates susceptible list\n",
    "    iList.append(Infected)  # Updates infected list\n",
    "\n",
    "# End of infection spread loop\n",
    "\n",
    "# Begin code for graphing data.\n",
    "# We will import a graphing module called 'matplotlib' for this\n",
    "\n",
    "import matplotlib.pyplot as plt\n",
    "\n",
    "plt.plot(tList, sList)\n",
    "plt.xlabel('Days')\n",
    "plt.ylabel('Susceptible Individuals')\n",
    "plt.xlim(0, 20)\n",
    "plt.ylim(0, 1000)\n",
    "plt.show()\n",
    "\n",
    "plt.plot(tList, iList)\n",
    "plt.xlabel('Days')\n",
    "plt.ylabel('Infected Individuals')\n",
    "plt.xlim(0, 20)\n",
    "plt.ylim(0, 1000)\n",
    "plt.show()\n"
   ]
  },
  {
   "cell_type": "markdown",
   "metadata": {},
   "source": [
    "## Your Turn: Common Cold Model\n",
    "\n",
    "Next, let's do a common cold model. A common cold mutates, so it can be passed back and forth and you can get it again and again. This is sometimes called an \"SIS Model\", for <b>S</b>usceptible - <b>I</b>nfected - <b>S</b>usceptible.\n",
    "\n",
    "<IMG SRC = \"Picture1.jpg\" Height = 500 Width = 500>\n",
    "\n",
    "Let's start with 1000 susceptible people again. The rate of infection is 25% of susceptibles per day. The rate of recovery is 10% of infected individuals per day. So, there are now TWO transmission variables.\n",
    "\n",
    "Copy the code from the outbreak above into the cell below, and modify it to show what happens over time. Describe the shape of the curves. How are they different from the HIV model?"
   ]
  },
  {
   "cell_type": "code",
   "execution_count": null,
   "metadata": {},
   "outputs": [],
   "source": [
    "# MODIFY: Common Cold Model\n",
    "\n",
    "\n",
    "\n",
    "\n",
    "\n",
    "\n",
    "\n",
    "\n",
    "\n"
   ]
  },
  {
   "cell_type": "markdown",
   "metadata": {},
   "source": [
    "# Chicken Pox!\n",
    "\n",
    "Now, let's do chicken pox. Once you recover from chicken pox, you develop immunity and don't get it again. This type of model is called an \"SIR Model\", for Susceptible - Infected - Recovered.\n",
    "\n",
    "<IMG SRC = \"SIRmodel.jpg\" Height = 400 Width = 600>\n",
    "\n",
    "Class variables here are Susceptible, Infected and Recovered. In this model, individuals move from one class to another, but don't go back.\n",
    "\n",
    "There are now THREE class variables, but still only two transmission variables (see arrows).\n",
    "\n",
    "Time is still a variable.\n",
    "\n",
    "Copy the code from the Common Cold above into the cell below, and modify it for Chicken Pox. Keep your starting variable values the same. Note that you won't have anyone in the recovered class to start.\n",
    "\n",
    "Your curves should show susceptibles decreasing as people get sick, and a pulse of infected individuals (getting sick and then recovering). The recovered group, if you choose to graph it, will increase over time."
   ]
  },
  {
   "cell_type": "code",
   "execution_count": null,
   "metadata": {},
   "outputs": [],
   "source": [
    "# MODIFY: Chicken Pox Model\n",
    "\n",
    "\n",
    "\n",
    "\n",
    "\n"
   ]
  },
  {
   "cell_type": "markdown",
   "metadata": {},
   "source": [
    "## Variables Stretch: Create a Zombie Model\n",
    "\n",
    "In a zombie model, infected individuals either become zombies or they die. You could also make the model more complicated by having healthy people fight back and kill the zombies. Maybe you could even have a zombie vaccine! Draw out on paper the different classes you would like for your model, and start coding.\n",
    "\n",
    "<IMG SRC = \"http://www.pngonly.com/wp-content/uploads/2017/05/Zombie-Hands-PNG-1.png\" Height = 200 Width = 800>"
   ]
  },
  {
   "cell_type": "code",
   "execution_count": null,
   "metadata": {},
   "outputs": [],
   "source": [
    "# CREATE: Your Zombie model\n",
    "\n",
    "\n",
    "\n"
   ]
  }
 ],
 "metadata": {
  "kernelspec": {
   "display_name": "Python 3",
   "language": "python",
   "name": "python3"
  },
  "language_info": {
   "codemirror_mode": {
    "name": "ipython",
    "version": 3
   },
   "file_extension": ".py",
   "mimetype": "text/x-python",
   "name": "python",
   "nbconvert_exporter": "python",
   "pygments_lexer": "ipython3",
   "version": "3.6.8"
  }
 },
 "nbformat": 4,
 "nbformat_minor": 4
}
